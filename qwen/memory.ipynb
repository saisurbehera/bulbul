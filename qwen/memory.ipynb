{
 "cells": [
  {
   "cell_type": "code",
   "execution_count": 1,
   "metadata": {},
   "outputs": [
    {
     "name": "stderr",
     "output_type": "stream",
     "text": [
      "/home/sai/.local/lib/python3.10/site-packages/tqdm/auto.py:21: TqdmWarning: IProgress not found. Please update jupyter and ipywidgets. See https://ipywidgets.readthedocs.io/en/stable/user_install.html\n",
      "  from .autonotebook import tqdm as notebook_tqdm\n",
      "/usr/lib/python3/dist-packages/scipy/__init__.py:146: UserWarning: A NumPy version >=1.17.3 and <1.25.0 is required for this version of SciPy (detected version 1.26.4\n",
      "  warnings.warn(f\"A NumPy version >={np_minversion} and <{np_maxversion}\"\n"
     ]
    }
   ],
   "source": [
    "\n",
    "\n",
    "from transformers.activations import ACT2FN\n",
    "from transformers.cache_utils import Cache, DynamicCache, StaticCache\n",
    "from transformers.generation import GenerationMixin\n",
    "from transformers.modeling_attn_mask_utils import AttentionMaskConverter\n",
    "from transformers.modeling_flash_attention_utils import FlashAttentionKwargs"
   ]
  },
  {
   "cell_type": "code",
   "execution_count": 2,
   "metadata": {},
   "outputs": [],
   "source": [
    "from qwen_model import * "
   ]
  },
  {
   "cell_type": "code",
   "execution_count": 4,
   "metadata": {},
   "outputs": [
    {
     "data": {
      "text/plain": [
       "'4.49.0.dev0'"
      ]
     },
     "execution_count": 4,
     "metadata": {},
     "output_type": "execute_result"
    }
   ],
   "source": [
    "import transformers \n",
    "transformers.__version__"
   ]
  },
  {
   "cell_type": "code",
   "execution_count": null,
   "metadata": {},
   "outputs": [],
   "source": [
    "class HybridQwen2Config(Qwen2Config):\n",
    "    def __init__(\n",
    "        self,\n",
    "        # Add your new config parameters\n",
    "        hybrid_attention_layers=None,  # List of layer indices to use hybrid attention\n",
    "        alpha_init=0.5,  # Initial value for alpha parameter\n",
    "        **kwargs\n",
    "    ):\n",
    "        # Call parent constructor first\n",
    "        super().__init__(**kwargs)\n",
    "        \n",
    "        # Set new attributes\n",
    "        self.hybrid_attention_layers = hybrid_attention_layers if hybrid_attention_layers is not None else []\n",
    "        self.alpha_init = alpha_init\n",
    "        \n",
    "        # Update model type to differentiate from base Qwen2\n",
    "        self.model_type = \"hybrid_qwen2\"\n",
    "        \n",
    "        # Add new parameters to the config's serialization\n",
    "        self.register_for_auto_class = True\n",
    "\n",
    "    def to_dict(self):\n",
    "        \"\"\"Convert configuration to dictionary.\"\"\"\n",
    "        config_dict = super().to_dict()\n",
    "        # Add the new parameters\n",
    "        config_dict[\"hybrid_attention_layers\"] = self.hybrid_attention_layers\n",
    "        config_dict[\"alpha_init\"] = self.alpha_init\n",
    "        return config_dict\n",
    "\n",
    "    @classmethod\n",
    "    def from_dict(cls, config_dict):\n",
    "        \"\"\"Create a configuration from dictionary.\"\"\"\n",
    "        # First create the config with base parameters\n",
    "        config = super().from_dict(config_dict)\n",
    "        # Add the hybrid-specific parameters\n",
    "        config.hybrid_attention_layers = config_dict.get(\"hybrid_attention_layers\", [])\n",
    "        config.alpha_init = config_dict.get(\"alpha_init\", 0.5)\n",
    "        return config"
   ]
  },
  {
   "cell_type": "code",
   "execution_count": null,
   "metadata": {},
   "outputs": [],
   "source": []
  }
 ],
 "metadata": {
  "kernelspec": {
   "display_name": "Python 3",
   "language": "python",
   "name": "python3"
  },
  "language_info": {
   "codemirror_mode": {
    "name": "ipython",
    "version": 3
   },
   "file_extension": ".py",
   "mimetype": "text/x-python",
   "name": "python",
   "nbconvert_exporter": "python",
   "pygments_lexer": "ipython3",
   "version": "3.10.12"
  }
 },
 "nbformat": 4,
 "nbformat_minor": 2
}
